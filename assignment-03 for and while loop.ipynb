{
 "cells": [
  {
   "cell_type": "code",
   "execution_count": 1,
   "id": "0de15433",
   "metadata": {},
   "outputs": [
    {
     "name": "stdout",
     "output_type": "stream",
     "text": [
      "1\n",
      "2\n",
      "4\n",
      "5\n"
     ]
    }
   ],
   "source": [
    "#1) Write a Python program that prints all the numbers from 0 to 6 except 3 and 6\n",
    "for i in range(1,3):\n",
    "         print(i)\n",
    "for j in range(4,6):\n",
    "    print(j)\n",
    " "
   ]
  },
  {
   "cell_type": "code",
   "execution_count": 14,
   "id": "dde647ff",
   "metadata": {},
   "outputs": [
    {
     "name": "stdout",
     "output_type": "stream",
     "text": [
      "1\n",
      "2\n",
      "4\n",
      "5\n"
     ]
    }
   ],
   "source": [
    "for z in range(1,6):\n",
    "    if z==3:\n",
    "        continue\n",
    "    if z==6:\n",
    "        continue\n",
    "    print(z)"
   ]
  },
  {
   "cell_type": "code",
   "execution_count": 17,
   "id": "c2310567",
   "metadata": {},
   "outputs": [
    {
     "name": "stdout",
     "output_type": "stream",
     "text": [
      "Enter a Number:10\n",
      "1\n",
      "2\n",
      "4\n",
      "5\n",
      "7\n",
      "8\n",
      "9\n",
      "10\n"
     ]
    }
   ],
   "source": [
    "n=0\n",
    "a=int(input(\"Enter a Number:\"))\n",
    "while n<=a:\n",
    "    n=n+1\n",
    "    if n==3:\n",
    "        continue\n",
    "    elif n==6:\n",
    "        continue\n",
    "    elif n>a:\n",
    "        break\n",
    "    print(n)"
   ]
  },
  {
   "cell_type": "code",
   "execution_count": 26,
   "id": "580c3019",
   "metadata": {},
   "outputs": [
    {
     "ename": "NameError",
     "evalue": "name 'i' is not defined",
     "output_type": "error",
     "traceback": [
      "\u001b[1;31m---------------------------------------------------------------------------\u001b[0m",
      "\u001b[1;31mNameError\u001b[0m                                 Traceback (most recent call last)",
      "\u001b[1;32m~\\AppData\\Local\\Temp\\ipykernel_13304\\20949152.py\u001b[0m in \u001b[0;36m<module>\u001b[1;34m\u001b[0m\n\u001b[1;32m----> 1\u001b[1;33m \u001b[1;32mwhile\u001b[0m \u001b[0mi\u001b[0m\u001b[1;33m<\u001b[0m\u001b[1;36m6\u001b[0m\u001b[1;33m:\u001b[0m\u001b[1;33m\u001b[0m\u001b[1;33m\u001b[0m\u001b[0m\n\u001b[0m\u001b[0;32m      2\u001b[0m     \u001b[1;32mif\u001b[0m \u001b[0mi\u001b[0m\u001b[1;33m!=\u001b[0m\u001b[1;36m3\u001b[0m\u001b[1;33m:\u001b[0m\u001b[1;33m\u001b[0m\u001b[1;33m\u001b[0m\u001b[0m\n\u001b[0;32m      3\u001b[0m         \u001b[1;32mcontinue\u001b[0m\u001b[1;33m\u001b[0m\u001b[1;33m\u001b[0m\u001b[0m\n\u001b[0;32m      4\u001b[0m     \u001b[1;32melif\u001b[0m \u001b[0mi\u001b[0m\u001b[1;33m!=\u001b[0m\u001b[1;36m6\u001b[0m\u001b[1;33m:\u001b[0m\u001b[1;33m\u001b[0m\u001b[1;33m\u001b[0m\u001b[0m\n\u001b[0;32m      5\u001b[0m         \u001b[1;32mcontinue\u001b[0m\u001b[1;33m\u001b[0m\u001b[1;33m\u001b[0m\u001b[0m\n",
      "\u001b[1;31mNameError\u001b[0m: name 'i' is not defined"
     ]
    }
   ],
   "source": [
    "while i<6:\n",
    "    if i!=3:\n",
    "        continue\n",
    "    elif i!=6:\n",
    "        continue\n",
    "    print(i)\n",
    "    i=i+1"
   ]
  },
  {
   "cell_type": "code",
   "execution_count": 72,
   "id": "45d0b19c",
   "metadata": {},
   "outputs": [
    {
     "name": "stdout",
     "output_type": "stream",
     "text": [
      "enter the number=6\n",
      "21\n"
     ]
    }
   ],
   "source": [
    "#Write a program to accept a number from a user and calculate the sum of all numbers from 1 to a given numbe\n",
    "a=int(input(\"enter the number=\"))\n",
    "total=0\n",
    "for i in range(1,a+1):\n",
    "    total=total+i    \n",
    "print(total)\n",
    "    "
   ]
  },
  {
   "cell_type": "code",
   "execution_count": 37,
   "id": "5f918510",
   "metadata": {},
   "outputs": [
    {
     "name": "stdout",
     "output_type": "stream",
     "text": [
      "enter the number=3\n",
      "6\n"
     ]
    }
   ],
   "source": [
    "#factoraial\n",
    "b=int(input(\"enter the number=\"))\n",
    "for i in range(1,b):\n",
    "    b=b*i\n",
    "print(b)\n",
    "    "
   ]
  },
  {
   "cell_type": "code",
   "execution_count": 17,
   "id": "3c8e392a",
   "metadata": {},
   "outputs": [
    {
     "name": "stdout",
     "output_type": "stream",
     "text": [
      "enter the number=10\n",
      "55\n"
     ]
    }
   ],
   "source": [
    "#while\n",
    "x=True\n",
    "c=int(input(\"enter the number=\"))\n",
    "d=0\n",
    "while x:\n",
    "    for a in range(0,c+1):\n",
    "        d=d+a\n",
    "        x=False\n",
    "print(d)\n",
    "      \n",
    "\n",
    "    "
   ]
  },
  {
   "cell_type": "code",
   "execution_count": 5,
   "id": "aa18f85b",
   "metadata": {},
   "outputs": [],
   "source": [
    "def mul(x,y):\n",
    "    for i in range(1,y+1):\n",
    "        prod=x*i\n",
    "        print(\"{}*{}={}\".format(x,i,(prod)))"
   ]
  },
  {
   "cell_type": "code",
   "execution_count": 6,
   "id": "aab0aad7",
   "metadata": {
    "scrolled": true
   },
   "outputs": [
    {
     "name": "stdout",
     "output_type": "stream",
     "text": [
      "5*1=5\n",
      "5*2=10\n",
      "5*3=15\n",
      "5*4=20\n",
      "5*5=25\n",
      "5*6=30\n",
      "5*7=35\n",
      "5*8=40\n",
      "5*9=45\n",
      "5*10=50\n",
      "5*11=55\n",
      "5*12=60\n",
      "5*13=65\n",
      "5*14=70\n",
      "5*15=75\n",
      "5*16=80\n",
      "5*17=85\n",
      "5*18=90\n",
      "5*19=95\n",
      "5*20=100\n"
     ]
    }
   ],
   "source": [
    "mul(5,20)"
   ]
  },
  {
   "cell_type": "code",
   "execution_count": 33,
   "id": "28d714fd",
   "metadata": {},
   "outputs": [
    {
     "name": "stdout",
     "output_type": "stream",
     "text": [
      "1\n",
      "2\n",
      "3\n",
      "4\n",
      "5\n",
      "6\n",
      "7\n",
      "8\n",
      "9\n",
      "10\n"
     ]
    }
   ],
   "source": [
    "#Write a program to count the total number of digits in a number using a while loop.\n",
    "alpha=[25,45,4,5,8,9,7,10,11,12]\n",
    "for i in enumerate(alpha,1):\n",
    "    print(i[0])"
   ]
  },
  {
   "cell_type": "code",
   "execution_count": 42,
   "id": "074df59b",
   "metadata": {},
   "outputs": [
    {
     "name": "stdout",
     "output_type": "stream",
     "text": [
      "10\n"
     ]
    }
   ],
   "source": [
    "alpha=25,45,4,5,8,9,7,10,11,12\n",
    "count=0\n",
    "for i in alpha:\n",
    "    count=count+1\n",
    "print(count)"
   ]
  },
  {
   "cell_type": "code",
   "execution_count": 39,
   "id": "fb164313",
   "metadata": {},
   "outputs": [
    {
     "data": {
      "text/plain": [
       "10"
      ]
     },
     "execution_count": 39,
     "metadata": {},
     "output_type": "execute_result"
    }
   ],
   "source": [
    "len(alpha)"
   ]
  },
  {
   "cell_type": "code",
   "execution_count": 3,
   "id": "b8ec3784",
   "metadata": {},
   "outputs": [
    {
     "name": "stdout",
     "output_type": "stream",
     "text": [
      "enter the guess number between 1 to 10 :10\n",
      "enter the guess number between 1 to 10 :4\n",
      "enter the guess number between 1 to 10 :5\n",
      "enter the guess number between 1 to 10 :6\n",
      "well guessed\n"
     ]
    }
   ],
   "source": [
    "guess_num=int(input(\"enter the guess number between 1 to 10 :\"))\n",
    "target_num=6\n",
    "while guess_num!=target_num:\n",
    "    guess_num=int(input(\"enter the guess number between 1 to 10 :\"))\n",
    "if guess_num==target_num:\n",
    "    print(\"well guessed\")\n",
    "  \n",
    "\n",
    "\n",
    "\n",
    "\n",
    "    \n",
    "    \n",
    "\n"
   ]
  },
  {
   "cell_type": "code",
   "execution_count": 2,
   "id": "29ac9bba",
   "metadata": {},
   "outputs": [
    {
     "name": "stdout",
     "output_type": "stream",
     "text": [
      "Well guessed!\n"
     ]
    }
   ],
   "source": [
    "import random\n",
    "guess_num,target_num=random.randint(0,10),5\n",
    "while target_num != guess_num:\n",
    "    guess_num = int(input('Guess a number between 1 and 10 until you get it right : '))\n",
    "print('Well guessed!')"
   ]
  },
  {
   "cell_type": "code",
   "execution_count": 10,
   "id": "d65ca86d",
   "metadata": {},
   "outputs": [
    {
     "name": "stdout",
     "output_type": "stream",
     "text": [
      "1\n",
      "2\n",
      "FIzz\n",
      "3\n",
      "4\n",
      "buzz\n",
      "5\n",
      "FIzz\n",
      "6\n",
      "7\n",
      "8\n",
      "FIzz\n",
      "9\n",
      "buzz\n",
      "10\n",
      "11\n",
      "FIzz\n",
      "12\n",
      "13\n",
      "14\n",
      "FIzz\n",
      "FizzBuzz\n",
      "16\n",
      "17\n",
      "FIzz\n",
      "18\n",
      "19\n",
      "buzz\n",
      "20\n",
      "FIzz\n",
      "21\n",
      "22\n",
      "23\n",
      "FIzz\n",
      "24\n",
      "buzz\n",
      "25\n",
      "26\n",
      "FIzz\n",
      "27\n",
      "28\n",
      "29\n",
      "FIzz\n",
      "FizzBuzz\n",
      "31\n",
      "32\n",
      "FIzz\n",
      "33\n",
      "34\n",
      "buzz\n",
      "35\n",
      "FIzz\n",
      "36\n",
      "37\n",
      "38\n",
      "FIzz\n",
      "39\n",
      "buzz\n",
      "40\n",
      "41\n",
      "FIzz\n",
      "42\n",
      "43\n",
      "44\n",
      "FIzz\n",
      "FizzBuzz\n",
      "46\n",
      "47\n",
      "FIzz\n",
      "48\n",
      "49\n",
      "buzz\n",
      "50\n",
      "FIzz\n",
      "51\n",
      "52\n",
      "53\n",
      "FIzz\n",
      "54\n",
      "buzz\n",
      "55\n",
      "56\n",
      "FIzz\n",
      "57\n",
      "58\n",
      "59\n",
      "FIzz\n",
      "FizzBuzz\n"
     ]
    }
   ],
   "source": [
    "#number=int(input(\"enter the number between 1 to 60:=\"))\n",
    "set2=[]\n",
    "for i in range(1,61):\n",
    "    if i%3==0:\n",
    "        print(\"FIzz\")\n",
    "    elif i%5==0:\n",
    "        print(\"buzz\")\n",
    "    if i%5==0 and i%3==0:\n",
    "        print(\"FizzBuzz\")\n",
    "    else:\n",
    "        print(i)\n",
    "      "
   ]
  },
  {
   "cell_type": "code",
   "execution_count": 18,
   "id": "4d2f0b24",
   "metadata": {},
   "outputs": [
    {
     "name": "stdout",
     "output_type": "stream",
     "text": [
      "enter the stringsalva77990\n",
      "5\n",
      "5\n"
     ]
    }
   ],
   "source": [
    "#7.Write a Python program that accepts a string and calculate the number of digits and letter\n",
    "str1=input(\"enter the string\")\n",
    "alpha=[]\n",
    "digit=[]\n",
    "for i in str1:\n",
    "    if i.isalpha():\n",
    "        alpha.append(i)\n",
    "print(len(alpha))\n",
    "for i in str1:\n",
    "    if i.isdigit():\n",
    "        digit.append(i)\n",
    "print(len(digit))"
   ]
  },
  {
   "cell_type": "markdown",
   "id": "63aa9acb",
   "metadata": {},
   "source": [
    "8) Write a Python program to check the validity of password \n",
    "input by users. \n",
    "Validation:\n",
    "At least 1 letter between [a-z] and 1 letter between [A-Z]. \n",
    "At least 1 number between [0-9]. \n",
    "At least 1 character from [$#@].\n",
    "Minimum length 6 characters.\n",
    "Maximum length 16 characters"
   ]
  },
  {
   "cell_type": "code",
   "execution_count": 6,
   "id": "6e08e98d",
   "metadata": {},
   "outputs": [
    {
     "name": "stdout",
     "output_type": "stream",
     "text": [
      "enter the password=PowerSt@r1234\n",
      "OK\n",
      "You have given\n",
      " valid Password.\n"
     ]
    }
   ],
   "source": [
    "\n",
    "pass_word=input(\"enter the password=\")\n",
    "number=[1,2,3,4,5,6,7,8,9,10]\n",
    "lower_words=0\n",
    "upper_words=0\n",
    "digit=0\n",
    "symbol=[\"$\",\"#\",\"@\"]\n",
    "for i in pass_word:\n",
    "     if i.isalpha():\n",
    "            if i==i.upper():\n",
    "                upper_words+=1\n",
    "            elif i.isalpha():\n",
    "                if i==i.lower():\n",
    "                    lower_words+=1\n",
    "            elif i in symbol:\n",
    "                symbol+=1\n",
    "            elif i in numbers:\n",
    "                number+=1\n",
    "if len(pass_word)<6:\n",
    "    print(\"Your Password must contain atleast 6 charecters\")\n",
    "elif len(pass_word)>16:\n",
    "    print(\"Your Password length is greater than limits, Please reduce some charecters\")\n",
    "elif number==0:\n",
    "    print(\"Please include numbers inside your password\")\n",
    "elif upper_words==0:\n",
    "    print(\"Please include upperr case letters inside your password\")\n",
    "elif lower_words==0:\n",
    "    print(\"Please include lower case letters inside your password\")\n",
    "else:\n",
    "    print(\"OK\\nYou have given\\n valid Password.\")\n",
    "        \n",
    "        \n",
    "        \n",
    "        \n",
    "        \n",
    "        \n",
    "        \n",
    "        \n",
    "\n",
    "\n",
    "\n",
    " \n",
    "    \n",
    "\n"
   ]
  },
  {
   "cell_type": "code",
   "execution_count": 3,
   "id": "fed86e3f",
   "metadata": {},
   "outputs": [
    {
     "name": "stdout",
     "output_type": "stream",
     "text": [
      "ENTER THE STRING  elon mask\n",
      "ksam nole\n"
     ]
    }
   ],
   "source": [
    "#9.Write a program in Python to reverse a word by using while LOOP\n",
    "word=input(\"ENTER THE STRING  \")\n",
    "length=len(word)\n",
    "reverse=\"\"\n",
    "while length > 0:\n",
    "    reverse+=word[length-1]\n",
    "    length=length-1\n",
    "print(\"{}\".format(reverse))"
   ]
  },
  {
   "cell_type": "code",
   "execution_count": 108,
   "id": "9aa5ec38",
   "metadata": {},
   "outputs": [
    {
     "name": "stdout",
     "output_type": "stream",
     "text": [
      "55\n",
      "10\n",
      "5.5\n"
     ]
    }
   ],
   "source": [
    "#10)average value\n",
    "sum1=0\n",
    "for j in range(1,10+1):\n",
    "    sum1=sum1+j\n",
    "print(sum1)\n",
    "total=0\n",
    "for i in range(1,10+1):\n",
    "    total=total+1\n",
    "print(total)\n",
    "\n",
    "average_value=sum1/total\n",
    "print(average_value)\n",
    "    \n",
    "\n",
    "        \n",
    "        \n",
    "\n",
    "    \n",
    "    \n",
    "    \n",
    "    "
   ]
  },
  {
   "cell_type": "code",
   "execution_count": 15,
   "id": "49eca01b",
   "metadata": {
    "scrolled": true
   },
   "outputs": [
    {
     "name": "stdout",
     "output_type": "stream",
     "text": [
      "enter the number : 55\n",
      "press q or Q to end the program\n",
      "type q to quit : l\n",
      "enter the number : 66\n",
      "press q or Q to end the program\n",
      "type q to quit : w\n",
      "enter the number : 55\n",
      "press q or Q to end the program\n",
      "type q to quit : n\n",
      "enter the number : 6\n",
      "press q or Q to end the program\n",
      "type q to quit : q\n",
      "Average of all the numbers is:  45.5\n",
      "Product of all the numbers is:  1197900\n"
     ]
    }
   ],
   "source": [
    "product=1\n",
    "y=\"l\"\n",
    "total=0\n",
    "count=0\n",
    "while y!=\"q\":\n",
    "    number=int(input(\"enter the number : \"))\n",
    "    print(\"press q or Q to end the program\")\n",
    "    product=product*number\n",
    "    total=total+number\n",
    "    count=count+1\n",
    "    y=input(\"type q to quit : \")\n",
    "print(\"Average of all the numbers is: \",total/count)\n",
    "print(\"Product of all the numbers is: \",product)\n",
    "    \n",
    "    \n",
    "    \n",
    "\n",
    "    \n",
    "    \n",
    "    \n",
    "    \n",
    "    \n",
    "        \n",
    "        \n",
    "\n"
   ]
  },
  {
   "cell_type": "code",
   "execution_count": 36,
   "id": "55d977b0",
   "metadata": {},
   "outputs": [
    {
     "name": "stdout",
     "output_type": "stream",
     "text": [
      "enter the intergers :6\n",
      "enter q to end the program :\n",
      "enter the intergers :9\n",
      "enter q to end the program :\n",
      "enter the intergers :78\n",
      "enter q to end the program :\n",
      "enter the intergers :65\n",
      "enter q to end the program :\n",
      "enter the intergers :q\n",
      "The product of intergers [6, 54, 4212, 273780]\n",
      "average of integers 39.5\n"
     ]
    }
   ],
   "source": [
    "num=[]\n",
    "new_num=[]\n",
    "product=1\n",
    "sum1=0\n",
    "count=0\n",
    "p=[]\n",
    "\n",
    "while True:\n",
    "    number=input(\"enter the intergers :\")\n",
    "    if number==\"q\":\n",
    "        break\n",
    "    print(\"enter q to end the program :\")\n",
    "    num.append(number)\n",
    "for j in num:\n",
    "    a=int(j)\n",
    "    new_num.append(a)\n",
    "for k in new_num:\n",
    "    product=product*k\n",
    "    p.append(product)\n",
    "total=sum(new_num)\n",
    "count=len(new_num)\n",
    "average=total/count\n",
    "\n",
    "\n",
    "print(\"The product of intergers\",p)\n",
    "print(\"average of integers\",average)\n",
    "\n",
    "    \n",
    "    \n",
    "    \n",
    "    \n",
    "    \n",
    "    "
   ]
  },
  {
   "cell_type": "markdown",
   "id": "f39db88d",
   "metadata": {},
   "source": [
    "### 12) Write a Python program which will remove all digits or any other characters from the string except alphabet\n",
    "str1=input(\"enter the string :\") \n",
    "new=\"\"\n",
    "for i in str1:\n",
    "    if i.isalpha():\n",
    "        new=new+i\n",
    "r=\"\".join(new)\n",
    "print(r)"
   ]
  },
  {
   "cell_type": "code",
   "execution_count": 46,
   "id": "11f8e086",
   "metadata": {},
   "outputs": [],
   "source": [
    "n=1\n",
    "while n>=10:\n",
    "    for i in n:\n",
    "        if i%2==0:\n",
    "            print(i)\n",
    "        n=n+1"
   ]
  },
  {
   "cell_type": "code",
   "execution_count": 50,
   "id": "cf540020",
   "metadata": {},
   "outputs": [
    {
     "name": "stdout",
     "output_type": "stream",
     "text": [
      "[2, 4, 6, 8, 10]\n",
      "30\n"
     ]
    }
   ],
   "source": [
    "sum=[]\n",
    "sum_total=0\n",
    "for i in range(1,10+1):\n",
    "    if i%2==0:\n",
    "        sum.append(i)\n",
    "print(sum)\n",
    "for j in sum:\n",
    "    sum_total=sum_total+j\n",
    "print(sum_total)\n",
    "\n",
    "        "
   ]
  },
  {
   "cell_type": "code",
   "execution_count": 7,
   "id": "b65d9da9",
   "metadata": {},
   "outputs": [
    {
     "name": "stdout",
     "output_type": "stream",
     "text": [
      "enter the number6\n",
      "None,"
     ]
    }
   ],
   "source": [
    "#14\n",
    "list1=[]\n",
    "a=int(input(\"enter the number\"))\n",
    "for i in range(0,a):\n",
    "    list1.append(i)\n",
    "    k=list1.sort(reverse=True)\n",
    "print(k,end=\",\")"
   ]
  },
  {
   "cell_type": "code",
   "execution_count": 3,
   "id": "689424da",
   "metadata": {},
   "outputs": [
    {
     "name": "stdout",
     "output_type": "stream",
     "text": [
      "enter the number6\n",
      "6\n",
      "5\n",
      "4\n",
      "3\n",
      "2\n",
      "1\n",
      "0\n"
     ]
    }
   ],
   "source": [
    "num=int(input(\"enter the number\"))\n",
    "while num>=0:\n",
    "           print(num)\n",
    "           num=num-1\n",
    "           \n",
    "    "
   ]
  },
  {
   "cell_type": "code",
   "execution_count": 7,
   "id": "aae7e8c8",
   "metadata": {},
   "outputs": [
    {
     "name": "stdout",
     "output_type": "stream",
     "text": [
      "enter the arithmetic operation +\n",
      "enter the first value :6\n",
      "enter the second value :7\n",
      "6+7=13\n",
      "enter the arithmetic operation a\n",
      "enter the first value :f\n",
      "please give the correct values\n"
     ]
    }
   ],
   "source": [
    "try:\n",
    "    s=1\n",
    "    while s>=1:\n",
    "        operator=input(\"enter the arithmetic operation \")\n",
    "        if operator==\"c\" or operator==\"C\":\n",
    "            print(\"calulator is ended\")\n",
    "            break\n",
    "        a=int(input(\"enter the first value :\"))\n",
    "        b=int(input(\"enter the second value :\"))\n",
    "        if operator==\"+\":\n",
    "            print(\"{}+{}={}\".format(a,b,(a+b)))\n",
    "        elif operator==\"-\":\n",
    "            print(\"{}+{}={}\".format(a,b,(a-b)))\n",
    "        elif operator==\"*\":\n",
    "            print(\"{}+{}={}\".format(a,b,(a*b)))\n",
    "        else:\n",
    "            print(\"enter the valid index value\")\n",
    "    s=s+1\n",
    "except ValueError:\n",
    "    print(\"please give the correct values\")\n",
    "          \n",
    "\n",
    "    \n"
   ]
  },
  {
   "cell_type": "code",
   "execution_count": null,
   "id": "7d0767b4",
   "metadata": {},
   "outputs": [],
   "source": []
  }
 ],
 "metadata": {
  "kernelspec": {
   "display_name": "Python 3 (ipykernel)",
   "language": "python",
   "name": "python3"
  },
  "language_info": {
   "codemirror_mode": {
    "name": "ipython",
    "version": 3
   },
   "file_extension": ".py",
   "mimetype": "text/x-python",
   "name": "python",
   "nbconvert_exporter": "python",
   "pygments_lexer": "ipython3",
   "version": "3.9.13"
  }
 },
 "nbformat": 4,
 "nbformat_minor": 5
}
